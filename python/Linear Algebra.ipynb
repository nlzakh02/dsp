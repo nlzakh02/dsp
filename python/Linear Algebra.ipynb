{
 "cells": [
  {
   "cell_type": "code",
   "execution_count": null,
   "metadata": {
    "collapsed": true
   },
   "outputs": [],
   "source": [
    "import numpy as np\n",
    "# Do not change these variables\n",
    "A = np.array([[1,2,3],[2,7,4]])\n",
    "B = np.array([[1,-1],[0,1]])\n",
    "C = np.array([[5,-1],[9,1],[6,0]])\n",
    "D = np.array([[3,-2,-1],[1,2,3]])\n",
    "\n",
    "u = np.array([6,2,-3,5])\n",
    "v = np.array([3,5,-1,4])\n",
    "\n",
    "# Q1: record the dimensions of A, B, C, D, u, v respectively in the dict below. \n",
    "#     Do not type the answers, make python do the work\n",
    "\n",
    "dimensions = {\n",
    "    'A': A.shape,\n",
    "    'B': B.shape,\n",
    "    'C': C.shape,\n",
    "    'D': D.shape,\n",
    "    'u': u.shape,\n",
    "    'v': v.shape\n",
    "}\n",
    "\n",
    "# Q2: vector operations\n",
    "#     assign `None` if the operation is not defined\n",
    "#     do not type the answers, make python do the work\n",
    "alpha = 6\n",
    "\n",
    "u_plus_v = np.add(u, v)                 # u+v\n",
    "u_minus_v = np.subtract(u, v)           # u-v\n",
    "alpha_times_u = np.multiply(alpha, u)   # alpha * u, alpha = 6\n",
    "u_dot_v = np.dot(u, v)                  # u . v\n",
    "norm_u = np.linalg.norm(u)              # ||u|| \n",
    "\n",
    "\n",
    "# Q3: compute the following and assign to variables below:\n",
    "#     assign `None` if the operation is not defined\n",
    "#     do not type the answers, make python do the work\n",
    "\n",
    "A_plus_C = None                                       # A + C\n",
    "A_minus_Ctranspose = np.subtract(A, C.T)              # A - C.T\n",
    "Ctranspose_plus_3D = np.add(C.T, np.multiply(3, D))   # C.T + 3*D\n",
    "B_times_A = B.dot(A)                                  # B*A\n",
    "B_times_Atranspose = None                             # B*A.T\n",
    "\n",
    "# Q4: (bonus)\n",
    "\n",
    "B_times_C = None                           # B*C\n",
    "C_times_B = np.dot(C, B)                   # C*B\n",
    "B_exp_4 = np.linalg.matrix_power(B, 4)     # B^4\n",
    "A_times_Atranspose = A.dot(A.T)            # A*A.T\n",
    "Dtranspose_times_D = np.dot(D.T, D)        # D.T*D"
   ]
  }
 ],
 "metadata": {
  "kernelspec": {
   "display_name": "Python 3",
   "language": "python",
   "name": "python3"
  },
  "language_info": {
   "codemirror_mode": {
    "name": "ipython",
    "version": 3
   },
   "file_extension": ".py",
   "mimetype": "text/x-python",
   "name": "python",
   "nbconvert_exporter": "python",
   "pygments_lexer": "ipython3",
   "version": "3.6.3"
  }
 },
 "nbformat": 4,
 "nbformat_minor": 2
}
