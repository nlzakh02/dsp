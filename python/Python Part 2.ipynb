{
 "cells": [
  {
   "cell_type": "code",
   "execution_count": null,
   "metadata": {
    "collapsed": true
   },
   "outputs": [],
   "source": [
    "import csv, re"
   ]
  },
  {
   "cell_type": "code",
   "execution_count": null,
   "metadata": {},
   "outputs": [],
   "source": [
    "#import csv\n",
    "\n",
    "def count_degrees(csv_file_name):\n",
    "    t2 = []\n",
    "    with open(csv_file_name, newline='') as csvfile:\n",
    "        info = list(csv.reader(csvfile))[1:]\n",
    "    t = [i[1] for i in info]\n",
    "    t1 = [j.strip().replace('.', '').split(' ') for j in t]\n",
    "    for i in t1:\n",
    "        t2.extend(i)\n",
    "    \n",
    "    #title = {i:t2.count(i) for i in set(t2)}\n",
    "    \n",
    "    return {i:t2.count(i) for i in set(t2)}\n",
    "\n",
    "count_degrees('faculty.csv')"
   ]
  },
  {
   "cell_type": "code",
   "execution_count": null,
   "metadata": {},
   "outputs": [],
   "source": [
    "#import csv, re\n",
    "\n",
    "def count_titles(csv_file_name):\n",
    "    t = []\n",
    "    with open(csv_file_name, newline='') as csvfile:\n",
    "        info = list(csv.reader(csvfile))[1:]\n",
    "    \n",
    "    for g in info:\n",
    "        t.extend([i.rsplit(' ', 2)[0].strip() for i in g if re.search('Biostatistics', i)])\n",
    "        \n",
    "    return {i:t.count(i) for i in set(t)}\n",
    "\n",
    "count_titles('faculty.csv')"
   ]
  },
  {
   "cell_type": "code",
   "execution_count": null,
   "metadata": {},
   "outputs": [],
   "source": [
    "#import csv, re\n",
    "\n",
    "def emails(csv_file_name):\n",
    "    mail = []\n",
    "    with open(csv_file_name, newline='') as csvfile:\n",
    "        info = list(csv.reader(csvfile))[1:]\n",
    "    \n",
    "    for q in info:\n",
    "        mail.extend([i.strip() for i in q if re.search('@', i)])\n",
    "    \n",
    "    return(mail)\n",
    "\n",
    "emails('faculty.csv')"
   ]
  },
  {
   "cell_type": "code",
   "execution_count": null,
   "metadata": {},
   "outputs": [],
   "source": [
    "def unique_domains(emails):    \n",
    "    return set([i.split('@')[-1].strip() for i in emails])\n",
    "\n",
    "unique_domains(emails('faculty.csv'))"
   ]
  },
  {
   "cell_type": "code",
   "execution_count": null,
   "metadata": {},
   "outputs": [],
   "source": [
    "#import csv\n",
    "\n",
    "def write_to_csv(list_of_emails):\n",
    "    with open('emails.csv', 'w', newline='') as csvfile:\n",
    "        fieldnames = ['Faculty_E-mails']\n",
    "        writer = csv.DictWriter(csvfile, fieldnames=fieldnames)\n",
    "        writer.writeheader()\n",
    "        for i in list_of_emails:\n",
    "            writer.writerow({'Faculty_E-mails': i})\n",
    "\n",
    "m = emails('faculty.csv')\n",
    "write_to_csv(m)"
   ]
  },
  {
   "cell_type": "code",
   "execution_count": null,
   "metadata": {},
   "outputs": [],
   "source": [
    "def get_dict_faculty():\n",
    "    d = {}\n",
    "    with open('faculty.csv') as f:\n",
    "        f.readline()\n",
    "        for line in f:\n",
    "            l = line.split(',')\n",
    "            k = l[0].rsplit(sep=' ', maxsplit=1)[1]\n",
    "            if k not in d:\n",
    "                d[k] = [l[1:]]\n",
    "            else:\n",
    "                d[k].append(l[1:])\n",
    "\n",
    "    return d\n",
    "\n",
    "get_dict_faculty()"
   ]
  },
  {
   "cell_type": "code",
   "execution_count": null,
   "metadata": {},
   "outputs": [],
   "source": [
    "def get_dict_tuple():\n",
    "    d = {}\n",
    "    with open('faculty.csv') as f:\n",
    "        f.readline()\n",
    "        for line in f:\n",
    "            l = line.split(',')\n",
    "            d[tuple(l[0].strip().split())] = l[1:]\n",
    "    \n",
    "    return d\n",
    "\n",
    "get_dict_tuple()"
   ]
  },
  {
   "cell_type": "raw",
   "metadata": {
    "collapsed": true
   },
   "source": [
    "emails = ['nanditam@mail.med.upenn.edu', 'knashawn@mail.med.upenn.edu', 'propert@mail.med.upenn.edu', 'mputt@mail.med.upenn.edu', \n",
    "'sratclif@upenn.edu', 'michross@upenn.edu', 'jaroy@mail.med.upenn.edu', 'msammel@cceb.med.upenn.edu']\n",
    "\n",
    "#emails.insert(0, \"Faculty_E-mails\")\n",
    "\n",
    "import csv\n",
    "\n",
    "with open('emails.csv', 'w', newline='') as csvfile:\n",
    "    fieldnames = ['Faculty_E-mails']\n",
    "    writer = csv.DictWriter(csvfile, fieldnames=fieldnames)\n",
    "    writer.writeheader()\n",
    "    for i in emails:\n",
    "        writer.writerow({'Faculty_E-mails': i})\n",
    "   # writer.writerow({'first_name': 'Lovely', 'last_name': 'Spam'})\n",
    "  #  writer.writerow({'first_name': 'Wonderful', 'last_name': 'Spam'})\n",
    "\n",
    "\n",
    "\n",
    "\n",
    "\n",
    "\n",
    "\n",
    "\n",
    "#outF = open('emails.csv', 'w')\n",
    "#for line in emails:\n",
    "#    print(line, file=outF)\n",
    "#outF.close()\n",
    "\n",
    "\n",
    "#import csv\n",
    "#def write_to_csv(list_of_emails):\n",
    "#    list_of_emails.insert(0, \"Faculty_E-mails\")\n",
    "#    str_of_emails = \" \".join(list_of_emails)\n",
    "#    with open('emails.csv', 'w', newline = '') as f:\n",
    "#        writer = csv.writer(f)\n",
    "#        for i in list_of_emails:\n",
    "#            writer.writerow([i])\n",
    "## empty line in the end\n",
    "\n",
    "\n",
    "#def write_to_csv(list_of_emails):\n",
    "#    list_of_emails.insert(0, \"Faculty_E-mails\")\n",
    "#    with open('emails.csv', 'w') as f:\n",
    "#        for i in list_of_emails:\n",
    "#            f.write(i + \"\\n\")\n",
    "## empty line in the end\n",
    "\n",
    "\n",
    "#def write_to_csv(list_of_emails):\n",
    "#    list_of_emails.insert(0, \"Faculty_E-mails\")\n",
    "#    with open('emails.csv', \"w\") as output:\n",
    "#        writer = csv.writer(output, lineterminator='\\n')\n",
    "#        for val in list_of_emails:\n",
    "#            writer.writerow([val])\n",
    "## empty line in the end\n",
    "            \n",
    "\n",
    "#def write_to_csv(list_of_emails):\n",
    "#    list_of_emails.insert(0, \"Faculty_E-mails\")\n",
    "#    list_of_emails = map(lambda x: x + '\\r', list_of_emails)\n",
    "#    with open('emails.csv', 'w') as f:\n",
    "#        #for i in list_of_emails:\n",
    "#        f.writelines(list_of_emails)\n",
    "## empty line in the end    \n",
    "\n",
    "#def write_to_csv(list_of_emails):\n",
    "#    list_of_emails.insert(0, \"Faculty_E-mails\")\n",
    "#    l = \"\\n\".join(list_of_emails)\n",
    "#    with open('emails.csv', 'w') as f:\n",
    "#        f.write(l)\n",
    "    \n",
    "#write_to_csv(emails)"
   ]
  },
  {
   "cell_type": "code",
   "execution_count": null,
   "metadata": {},
   "outputs": [],
   "source": []
  }
 ],
 "metadata": {
  "kernelspec": {
   "display_name": "Python 3",
   "language": "python",
   "name": "python3"
  },
  "language_info": {
   "codemirror_mode": {
    "name": "ipython",
    "version": 3
   },
   "file_extension": ".py",
   "mimetype": "text/x-python",
   "name": "python",
   "nbconvert_exporter": "python",
   "pygments_lexer": "ipython3",
   "version": "3.6.3"
  }
 },
 "nbformat": 4,
 "nbformat_minor": 2
}
