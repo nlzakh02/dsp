{
 "cells": [
  {
   "cell_type": "code",
   "execution_count": null,
   "metadata": {
    "collapsed": true
   },
   "outputs": [],
   "source": [
    "def difference_in_days(date1, date2):\n",
    "    date_1 = datetime.strptime(date1, '%m-%d-%Y')\n",
    "    date_2 = datetime.strptime(date2, '%m-%d-%Y')\n",
    "    timedelta = date_2 - date_1\n",
    "\n",
    "    return timedelta.days"
   ]
  },
  {
   "cell_type": "code",
   "execution_count": null,
   "metadata": {
    "collapsed": true
   },
   "outputs": [],
   "source": [
    "celsius = [39.2, 36.5, 37.3, 0, 20]\n",
    "# write your answer in one line. use a list comprehension. use the variable \"celsius\"\n",
    "fahrenheit = [((i * 9) / 5) + 32 for i in celsius]"
   ]
  },
  {
   "cell_type": "code",
   "execution_count": null,
   "metadata": {
    "collapsed": true
   },
   "outputs": [],
   "source": [
    "def donuts(count):\n",
    "    if count < 10:\n",
    "        return(\"Number of donuts: \" + str(count))\n",
    "    else:\n",
    "        return(\"Number of donuts: many\")"
   ]
  },
  {
   "cell_type": "code",
   "execution_count": null,
   "metadata": {
    "collapsed": true
   },
   "outputs": [],
   "source": [
    "def both_ends(s):\n",
    "    length = len(s)\n",
    "    if length < 2:\n",
    "        return(\"\")\n",
    "    else:\n",
    "        return(s[:2] + s[-2:])"
   ]
  },
  {
   "cell_type": "code",
   "execution_count": null,
   "metadata": {
    "collapsed": true
   },
   "outputs": [],
   "source": [
    "def fix_start(s):\n",
    "    first = s[0]\n",
    "    other_part = s[1:]\n",
    "    replaced = other_part.replace(first, '*')\n",
    "    return(first + replaced)"
   ]
  },
  {
   "cell_type": "code",
   "execution_count": null,
   "metadata": {
    "collapsed": true
   },
   "outputs": [],
   "source": [
    "def mix_up(a, b):\n",
    "    a_mix = b[:2] + a[2:]\n",
    "    b_mix = a[:2] + b[2:]\n",
    "    return(a_mix + ' ' + b_mix)"
   ]
  },
  {
   "cell_type": "code",
   "execution_count": null,
   "metadata": {
    "collapsed": true
   },
   "outputs": [],
   "source": [
    "def verbing(s):\n",
    "    if len(s) < 3:\n",
    "        return(s)\n",
    "    elif len(s) >= 3:\n",
    "        if s[-3:] == \"ing\":\n",
    "            return(s + 'ly')\n",
    "        else:\n",
    "            return(s + 'ing')"
   ]
  },
  {
   "cell_type": "code",
   "execution_count": null,
   "metadata": {
    "collapsed": true
   },
   "outputs": [],
   "source": [
    "def not_bad(s):\n",
    "    has_not = s.find('not')\n",
    "    has_bad = s.find('bad')\n",
    "    while has_bad > has_not and has_not >= 0:\n",
    "        return(s.replace(s[has_not:has_bad + 3], \"good\", 1))\n",
    "    else:\n",
    "        return(s)"
   ]
  },
  {
   "cell_type": "code",
   "execution_count": null,
   "metadata": {
    "collapsed": true
   },
   "outputs": [],
   "source": [
    "def front_back(s1, s2):\n",
    "    l = [s1, s2]\n",
    "    front = \"\"\n",
    "    back = \"\"\n",
    "    for i in l:\n",
    "        if len(i) % 2 == 0:\n",
    "            border = int(len(i) / 2)\n",
    "        elif len(i) % 2 != 0:\n",
    "            border = (len(i) // 2) + 1\n",
    "        front = front + i[:border]\n",
    "        back = back + i[border:]\n",
    "    return(front + back)"
   ]
  },
  {
   "cell_type": "code",
   "execution_count": null,
   "metadata": {
    "collapsed": true
   },
   "outputs": [],
   "source": [
    "def match_ends(s):\n",
    "    count = 0\n",
    "    for i in s:\n",
    "        if len(i) >= 2 and i[0] == i[-1]:\n",
    "            count += 1\n",
    "    return(count)"
   ]
  },
  {
   "cell_type": "code",
   "execution_count": null,
   "metadata": {
    "collapsed": true
   },
   "outputs": [],
   "source": [
    "def front_x(words):\n",
    "    has_x = [words[i] for i in range(len(words)) if words[i][0] == 'x']\n",
    "    no_x = [words[i] for i in range(len(words)) if words[i][0] != 'x']\n",
    "    \n",
    "    return(sorted(has_x) + sorted(no_x))"
   ]
  },
  {
   "cell_type": "code",
   "execution_count": null,
   "metadata": {
    "collapsed": true
   },
   "outputs": [],
   "source": [
    "def sort_last(tuples):\n",
    "    return(sorted(tuples, key=lambda t: t[-1]))"
   ]
  },
  {
   "cell_type": "code",
   "execution_count": null,
   "metadata": {
    "collapsed": true
   },
   "outputs": [],
   "source": [
    "def remove_adjacent(nums):\n",
    "    r = []\n",
    "    for i in nums:\n",
    "        if len(r) == 0:\n",
    "            r.append(i)\n",
    "        elif i != r[-1]:\n",
    "            r.append(i)\n",
    "    return(r)"
   ]
  },
  {
   "cell_type": "code",
   "execution_count": null,
   "metadata": {
    "collapsed": true
   },
   "outputs": [],
   "source": [
    "def linear_merge(list1, list2):\n",
    "    result = []\n",
    "    while (list1 and list2):\n",
    "        if list1[0] <= list2[0]:\n",
    "            result.append(list1.pop(0))\n",
    "        elif list1[0] > list2[0]:\n",
    "            result.append(list2.pop(0))\n",
    "\n",
    "    if list1:\n",
    "        result.extend(list1)\n",
    "    else: result.extend(list2)\n",
    "\n",
    "    return(result)"
   ]
  },
  {
   "cell_type": "code",
   "execution_count": null,
   "metadata": {
    "collapsed": true
   },
   "outputs": [],
   "source": [
    "# The football.csv file contains the results from the English Premier League.\n",
    "# The columns labeled ‘Goals’ and ‘Goals Allowed’ contain the total number of\n",
    "# goals scored for and against each team in that season (so Arsenal scored 79 goals\n",
    "# against opponents, and had 36 goals scored against them). Write a program to read the file,\n",
    "# then print the name of the team with the smallest difference in ‘for’ and ‘against’ goals.\n",
    "\n",
    "# Don't use pandas.\n",
    "\n",
    "# Following functions will be called like this:\n",
    "#   footballTable = read_data('football.csv')\n",
    "#   minRow = get_index_with_min_abs_score_difference(footballTable)\n",
    "#   print str(get_team(minRow, footballTable))\n",
    "\n",
    "\n",
    "def read_data(filename):\n",
    "    \"\"\"Returns a list of lists representing the rows of the csv file data.\n",
    "\n",
    "    Arguments: filename is the name of a csv file (as a string)\n",
    "    Returns: list of lists of strings, where every line is split into a list of values. \n",
    "        ex: ['Arsenal', 38, 26, 9, 3, 79, 36, 87]\n",
    "    \"\"\"\n",
    "    with open(filename, newline='') as in_file:\n",
    "        parsed_data = list(csv.reader(in_file))\n",
    "    \n",
    "    return parsed_data[1:]\n",
    "\n",
    "\n",
    "def get_index_with_min_abs_score_difference(goals):\n",
    "    \"\"\"Returns the index of the team with the smallest difference\n",
    "    between 'for' and 'against' goals, in terms of absolute value.\n",
    "\n",
    "    Arguments: parsed_data is a list of lists of cleaned strings\n",
    "    Returns: integer row index\n",
    "    \"\"\"\n",
    "    diff = [abs(int(g[5]) - int(g[6])) for g in goals]\n",
    "    m = min(diff)\n",
    "    return diff.index(m)\n",
    "    \n",
    "    \n",
    "def get_team(index_value, parsed_data):\n",
    "    \"\"\"Returns the team name at a given index.\n",
    "    \n",
    "    Arguments: index_value is an integer row index\n",
    "               parsed_data is the output of `read_data` above\n",
    "               \n",
    "    Returns: the team name\n",
    "    \"\"\"\n",
    "    return  parsed_data[index_value][0]"
   ]
  },
  {
   "cell_type": "code",
   "execution_count": null,
   "metadata": {
    "collapsed": true
   },
   "outputs": [],
   "source": [
    "def intersect_lists_2(list1, list2):\n",
    "    \n",
    "    return set(list1).intersection(set(list2))"
   ]
  },
  {
   "cell_type": "code",
   "execution_count": null,
   "metadata": {
    "collapsed": true
   },
   "outputs": [],
   "source": [
    "def remove_duplicates(somelist):\n",
    "    return set(somelist)"
   ]
  }
 ],
 "metadata": {
  "kernelspec": {
   "display_name": "Python 3",
   "language": "python",
   "name": "python3"
  },
  "language_info": {
   "codemirror_mode": {
    "name": "ipython",
    "version": 3
   },
   "file_extension": ".py",
   "mimetype": "text/x-python",
   "name": "python",
   "nbconvert_exporter": "python",
   "pygments_lexer": "ipython3",
   "version": "3.6.3"
  }
 },
 "nbformat": 4,
 "nbformat_minor": 2
}
