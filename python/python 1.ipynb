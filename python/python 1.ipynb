{
 "cells": [
  {
   "cell_type": "code",
   "execution_count": 5,
   "metadata": {},
   "outputs": [
    {
     "name": "stdout",
     "output_type": "stream",
     "text": [
      "937 days, 0:00:00\n"
     ]
    }
   ],
   "source": [
    "import datetime as dt\n",
    "\n",
    "date_start = dt.datetime.strptime('01-02-2013', '%m-%d-%Y')\n",
    "date_stop = dt.datetime.strptime('07-28-2015', '%m-%d-%Y')\n",
    "\n",
    "timedelta = date_stop - date_start\n",
    "print(timedelta)"
   ]
  },
  {
   "cell_type": "code",
   "execution_count": 6,
   "metadata": {},
   "outputs": [
    {
     "name": "stdout",
     "output_type": "stream",
     "text": [
      "Question b: 513 days, 0:00:00\n"
     ]
    }
   ],
   "source": [
    "date_start = dt.datetime.strptime('12312013', '%m%d%Y')\n",
    "date_stop = dt.datetime.strptime('05282015', '%m%d%Y')\n",
    "\n",
    "timedelta_b = date_stop - date_start\n",
    "\n",
    "print(\"Question b:\", timedelta_b)"
   ]
  },
  {
   "cell_type": "code",
   "execution_count": 7,
   "metadata": {},
   "outputs": [
    {
     "name": "stdout",
     "output_type": "stream",
     "text": [
      "Question c: 7850 days, 0:00:00\n"
     ]
    }
   ],
   "source": [
    "date_start = '15-Jan-1994'\n",
    "date_stop = '14-Jul-2015'\n",
    "\n",
    "date_start = dt.datetime.strptime('15-Jan-1994', '%d-%b-%Y')\n",
    "date_stop = dt.datetime.strptime('14-Jul-2015', '%d-%b-%Y')\n",
    "\n",
    "timedelta_c = date_stop - date_start\n",
    "\n",
    "print(\"Question c:\", timedelta_c)"
   ]
  },
  {
   "cell_type": "code",
   "execution_count": 13,
   "metadata": {},
   "outputs": [
    {
     "name": "stdout",
     "output_type": "stream",
     "text": [
      "Number of donuts: many\n"
     ]
    }
   ],
   "source": [
    "def donuts(count):\n",
    "    \"\"\"\n",
    "    Given an int count of a number of donuts, return a string of the\n",
    "    form 'Number of donuts: <count>', where <count> is the number\n",
    "    passed in. However, if the count is 10 or more, then use the word\n",
    "    'many' instead of the actual count.\n",
    "\n",
    "    >>> donuts(4)\n",
    "    'Number of donuts: 4'\n",
    "    >>> donuts(9)\n",
    "    'Number of donuts: 9'\n",
    "    >>> donuts(10)\n",
    "    'Number of donuts: many'\n",
    "    >>> donuts(99)\n",
    "    'Number of donuts: many'\n",
    "    \"\"\"\n",
    "    if count < 10:\n",
    "        print(\"Number of donuts:\", count)\n",
    "    elif count >= 10:\n",
    "        print(\"Number of donuts: many\")\n",
    "    else:\n",
    "        print(\"Are you sure you entered a number?\")\n",
    "\n",
    "donuts(23)"
   ]
  },
  {
   "cell_type": "code",
   "execution_count": 20,
   "metadata": {},
   "outputs": [
    {
     "name": "stdout",
     "output_type": "stream",
     "text": [
      "xyyz\n"
     ]
    }
   ],
   "source": [
    "def both_ends(s):\n",
    "    \"\"\"\n",
    "    Given a string s, return a string made of the first 2 and the last\n",
    "    2 chars of the original string, so 'spring' yields 'spng'.\n",
    "    However, if the string length is less than 2, return instead the\n",
    "    empty string.\n",
    "\n",
    "    >>> both_ends('spring')\n",
    "    'spng'\n",
    "    >>> both_ends('Hello')\n",
    "    'Helo'\n",
    "    >>> both_ends('a')\n",
    "    ''\n",
    "    >>> both_ends('xyz')\n",
    "    'xyyz'\n",
    "    \"\"\"\n",
    "    length = len(s)\n",
    "    if length <= 2:\n",
    "        print(\"''\")\n",
    "    elif length > 2:\n",
    "        print(s[:2] + s[-2:])\n",
    "\n",
    "both_ends('xyz')"
   ]
  },
  {
   "cell_type": "code",
   "execution_count": 28,
   "metadata": {},
   "outputs": [
    {
     "name": "stdout",
     "output_type": "stream",
     "text": [
      "donut\n"
     ]
    }
   ],
   "source": [
    "def fix_start(s):\n",
    "    \"\"\"\n",
    "    Given a string s, return a string where all occurences of its\n",
    "    first char have been changed to '*', except do not change the\n",
    "    first char itself. e.g. 'babble' yields 'ba**le' Assume that the\n",
    "    string is length 1 or more.\n",
    "\n",
    "    >>> fix_start('babble')\n",
    "    'ba**le'\n",
    "    >>> fix_start('aardvark')\n",
    "    'a*rdv*rk'\n",
    "    >>> fix_start('google')\n",
    "    'goo*le'\n",
    "    >>> fix_start('donut')\n",
    "    'donut'\n",
    "    \"\"\"\n",
    "    first = s[0]\n",
    "    other_part = s[1:]\n",
    "    replaced = other_part.replace(first, '*')\n",
    "    print(first + replaced)\n",
    "\n",
    "fix_start('donut')"
   ]
  },
  {
   "cell_type": "code",
   "execution_count": 34,
   "metadata": {},
   "outputs": [
    {
     "name": "stdout",
     "output_type": "stream",
     "text": [
      "fizzy perm\n"
     ]
    }
   ],
   "source": [
    "def mix_up(a, b):\n",
    "    \"\"\"\n",
    "    Given strings a and b, return a single string with a and b\n",
    "    separated by a space '<a> <b>', except swap the first 2 chars of\n",
    "    each string. Assume a and b are length 2 or more.\n",
    "\n",
    "    >>> mix_up('mix', 'pod')\n",
    "    'pox mid'\n",
    "    >>> mix_up('dog', 'dinner')\n",
    "    'dig donner'\n",
    "    >>> mix_up('gnash', 'sport')\n",
    "    'spash gnort'\n",
    "    >>> mix_up('pezzy', 'firm')\n",
    "    'fizzy perm'\n",
    "    \"\"\"\n",
    "    a_mix = b[:2] + a[2:]\n",
    "    b_mix = a[:2] + b[2:]\n",
    "    print(a_mix + ' ' + b_mix)\n",
    "\n",
    "mix_up('pezzy', 'firm')"
   ]
  },
  {
   "cell_type": "code",
   "execution_count": 40,
   "metadata": {},
   "outputs": [
    {
     "name": "stdout",
     "output_type": "stream",
     "text": [
      "do\n"
     ]
    }
   ],
   "source": [
    "def verbing(s):\n",
    "    \"\"\"\n",
    "    Given a string, if its length is at least 3, add 'ing' to its end.\n",
    "    Unless it already ends in 'ing', in which case add 'ly' instead.\n",
    "    If the string length is less than 3, leave it unchanged. Return\n",
    "    the resulting string.\n",
    "\n",
    "    >>> verbing('hail')\n",
    "    'hailing'\n",
    "    >>> verbing('swiming')\n",
    "    'swimingly'\n",
    "    >>> verbing('do')\n",
    "    'do'\n",
    "    \"\"\"\n",
    "    if len(s) < 3:\n",
    "        print(s)\n",
    "    elif len(s) >= 3:\n",
    "        if s[-3:] == \"ing\":\n",
    "            print(s + 'ly')\n",
    "        else:\n",
    "            print(s + 'ing')\n",
    "            \n",
    "verbing('do')"
   ]
  },
  {
   "cell_type": "code",
   "execution_count": 55,
   "metadata": {},
   "outputs": [
    {
     "name": "stdout",
     "output_type": "stream",
     "text": [
      "It's bad yet not\n"
     ]
    }
   ],
   "source": [
    "def not_bad(s):\n",
    "    \"\"\"\n",
    "    Given a string, find the first appearance of the substring 'not'\n",
    "    and 'bad'. If the 'bad' follows the 'not', replace the whole\n",
    "    'not'...'bad' substring with 'good'. Return the resulting string.\n",
    "    So 'This dinner is not that bad!' yields: 'This dinner is\n",
    "    good!'\n",
    "\n",
    "    >>> not_bad('This movie is not so bad')\n",
    "    'This movie is good'\n",
    "    >>> not_bad('This dinner is not that bad!')\n",
    "    'This dinner is good!'\n",
    "    >>> not_bad('This tea is not hot')\n",
    "    'This tea is not hot'\n",
    "    >>> not_bad(\"It's bad yet not\")\n",
    "    \"It's bad yet not\"\n",
    "    \"\"\"\n",
    "    has_not = s.find('not')\n",
    "    has_bad = s.find('bad')\n",
    "    if has_bad > has_not and has_bad > 0 and has_not > 0:\n",
    "        print(s.replace(s[has_not:has_bad + 3], \"good\"))\n",
    "    else:\n",
    "        print(s)\n",
    "        \n",
    "\n",
    "not_bad(\"It's bad yet not\")"
   ]
  },
  {
   "cell_type": "code",
   "execution_count": 142,
   "metadata": {},
   "outputs": [
    {
     "name": "stdout",
     "output_type": "stream",
     "text": [
      "KitDontenut\n"
     ]
    }
   ],
   "source": [
    "def front_back(a, b):\n",
    "    \"\"\"\n",
    "    Consider dividing a string into two halves. If the length is even,\n",
    "    the front and back halves are the same length. If the length is\n",
    "    odd, we'll say that the extra char goes in the front half. e.g.\n",
    "    'abcde', the front half is 'abc', the back half 'de'. Given 2\n",
    "    strings, a and b, return a string of the form a-front + b-front +\n",
    "    a-back + b-back\n",
    "\n",
    "    >>> front_back('abcd', 'xy')\n",
    "    'abxcdy'\n",
    "    >>> front_back('abcde', 'xyz')\n",
    "    'abcxydez'\n",
    "    >>> front_back('Kitten', 'Donut')\n",
    "    'KitDontenut'\n",
    "    \"\"\"\n",
    "\n",
    "    l = [a, b]\n",
    "    front = \"\"\n",
    "    back = \"\"\n",
    "    for i in l:\n",
    "        if len(i) % 2 == 0:\n",
    "            border = int(len(i) / 2)\n",
    "        elif len(i) % 2 != 0:\n",
    "            border = len(i) // 2 + 1\n",
    "        front = front + i[:border]\n",
    "        back = back + i[border:]\n",
    "    print(front + back)\n",
    "\n",
    "front_back('Kitten', 'Donut')"
   ]
  }
 ],
 "metadata": {
  "kernelspec": {
   "display_name": "Python 3",
   "language": "python",
   "name": "python3"
  },
  "language_info": {
   "codemirror_mode": {
    "name": "ipython",
    "version": 3
   },
   "file_extension": ".py",
   "mimetype": "text/x-python",
   "name": "python",
   "nbconvert_exporter": "python",
   "pygments_lexer": "ipython3",
   "version": "3.6.3"
  }
 },
 "nbformat": 4,
 "nbformat_minor": 2
}
