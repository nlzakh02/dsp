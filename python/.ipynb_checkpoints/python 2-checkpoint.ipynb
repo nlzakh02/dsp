{
 "cells": [
  {
   "cell_type": "code",
   "execution_count": 14,
   "metadata": {},
   "outputs": [
    {
     "name": "stdout",
     "output_type": "stream",
     "text": [
      "1\n"
     ]
    }
   ],
   "source": [
    "def match_ends(words):\n",
    "    \"\"\"\n",
    "    Given a list of strings, return the count of the number of strings\n",
    "    where the string length is 2 or more and the first and last chars\n",
    "    of the string are the same.\n",
    "\n",
    "    >>> match_ends(['aba', 'xyz', 'aa', 'x', 'bbb'])\n",
    "    3\n",
    "    >>> match_ends(['', 'x', 'xy', 'xyx', 'xx'])\n",
    "    2\n",
    "    >>> match_ends(['aaa', 'be', 'abc', 'hello'])\n",
    "    1\n",
    "    \"\"\"\n",
    "    count = 0\n",
    "    \n",
    "    for i in words:\n",
    "        if len(i) >= 2 and i[0] == i[-1]:\n",
    "            count += 1        \n",
    "    print(count)"
   ]
  },
  {
   "cell_type": "code",
   "execution_count": 69,
   "metadata": {},
   "outputs": [
    {
     "name": "stdout",
     "output_type": "stream",
     "text": [
      "['xanadu', 'xyz', 'aardvark', 'apple', 'mix']\n"
     ]
    }
   ],
   "source": [
    "def front_x(words):\n",
    "    \"\"\"\n",
    "    Given a list of strings, return a list with the strings in sorted\n",
    "    order, except group all the strings that begin with 'x' first.\n",
    "    e.g. ['mix', 'xyz', 'apple', 'xanadu', 'aardvark'] yields\n",
    "         ['xanadu', 'xyz', 'aardvark', 'apple', 'mix'].\n",
    "\n",
    "    >>> front_x(['bbb', 'ccc', 'axx', 'xzz', 'xaa'])\n",
    "    ['xaa', 'xzz', 'axx', 'bbb', 'ccc']\n",
    "    >>> front_x(['ccc', 'bbb', 'aaa', 'xcc', 'xaa'])\n",
    "    ['xaa', 'xcc', 'aaa', 'bbb', 'ccc']\n",
    "    >>> front_x(['mix', 'xyz', 'apple', 'xanadu', 'aardvark'])\n",
    "    ['xanadu', 'xyz', 'aardvark', 'apple', 'mix']\n",
    "    \"\"\"\n",
    "    has_x = []\n",
    "    no_x = []\n",
    "    for i in range(len(words)):\n",
    "        if words[i][0] == 'x':\n",
    "            has_x.append(words[i])\n",
    "        else:\n",
    "            no_x.append(words[i])\n",
    "    print(sorted(has_x) + sorted(no_x))"
   ]
  },
  {
   "cell_type": "code",
   "execution_count": 77,
   "metadata": {},
   "outputs": [
    {
     "name": "stdout",
     "output_type": "stream",
     "text": [
      "[(2, 2), (1, 3), (3, 4, 5), (1, 7)]\n"
     ]
    }
   ],
   "source": [
    "def sort_last(tuples):\n",
    "    \"\"\"\n",
    "    Given a list of non-empty tuples, return a list sorted in\n",
    "    increasing order by the last element in each tuple.\n",
    "    e.g. [(1, 7), (1, 3), (3, 4, 5), (2, 2)] yields\n",
    "         [(2, 2), (1, 3), (3, 4, 5), (1, 7)].\n",
    "\n",
    "    >>> sort_last([(1, 3), (3, 2), (2, 1)])\n",
    "    [(2, 1), (3, 2), (1, 3)]\n",
    "    >>> sort_last([(2, 3), (1, 2), (3, 1)])\n",
    "    [(3, 1), (1, 2), (2, 3)]\n",
    "    >>> sort_last([(1, 7), (1, 3), (3, 4, 5), (2, 2)])\n",
    "    [(2, 2), (1, 3), (3, 4, 5), (1, 7)]\n",
    "    \"\"\"\n",
    "    # from operator import itemgetter\n",
    "    # sorted(tuples, key=itemgetter(2))\n",
    "    print(sorted(tuples, key=lambda t: t[-1]))"
   ]
  },
  {
   "cell_type": "code",
   "execution_count": 37,
   "metadata": {},
   "outputs": [
    {
     "name": "stdout",
     "output_type": "stream",
     "text": [
      "[]\n"
     ]
    }
   ],
   "source": [
    "def remove_adjacent(nums):\n",
    "    \"\"\"\n",
    "    Given a list of numbers, return a list where all adjacent equal\n",
    "    elements have been reduced to a single element, so [1, 2, 2, 3]\n",
    "    returns [1, 2, 3]. You may create a new list or modify the passed\n",
    "    in list.\n",
    "\n",
    "    >>> remove_adjacent([1, 2, 2, 3])\n",
    "    [1, 2, 3]\n",
    "    >>> remove_adjacent([2, 2, 3, 3, 3])\n",
    "    [2, 3]\n",
    "    >>> print(r)\n",
    "    [3, 2, 3]\n",
    "    >>> remove_adjacent([])\n",
    "    []\n",
    "    \"\"\"\n",
    "    \n",
    "    r = []\n",
    "    for i in nums:\n",
    "        if len(r) == 0:\n",
    "            r.append(i)\n",
    "        elif i != r[-1]:\n",
    "            r.append(i)\n",
    "    print(r)"
   ]
  },
  {
   "cell_type": "code",
   "execution_count": 69,
   "metadata": {},
   "outputs": [
    {
     "name": "stdout",
     "output_type": "stream",
     "text": [
      "['aa', 'aa', 'aa', 'bb', 'bb']\n"
     ]
    }
   ],
   "source": [
    "def linear_merge(list1, list2):\n",
    "    \"\"\"\n",
    "    Given two lists sorted in increasing order, create and return a\n",
    "    merged list of all the elements in sorted order. You may modify\n",
    "    the passed in lists. Ideally, the solution should work in \"linear\"\n",
    "    time, making a single pass of both lists.\n",
    "\n",
    "    >>> linear_merge(['aa', 'xx', 'zz'], ['bb', 'cc'])\n",
    "    ['aa', 'bb', 'cc', 'xx', 'zz']\n",
    "    >>> linear_merge(['aa', 'xx'], ['bb', 'cc', 'zz'])\n",
    "    ['aa', 'bb', 'cc', 'xx', 'zz']\n",
    "    >>> linear_merge(['aa', 'aa'], ['aa', 'bb', 'bb'])\n",
    "    ['aa', 'aa', 'aa', 'bb', 'bb']\n",
    "    \"\"\"\n",
    "    result = []\n",
    "    while (list1 and list2):\n",
    "        if list1[0] <= list2[0]:\n",
    "            result.append(list1.pop(0))\n",
    "        elif list1[0] > list2[0]:\n",
    "            result.append(list2.pop(0))\n",
    "    \n",
    "    if list1:\n",
    "        result.extend(list1)\n",
    "    else: result.extend(list2)\n",
    "\n",
    "    print(result)"
   ]
  },
  {
   "cell_type": "code",
   "execution_count": 113,
   "metadata": {},
   "outputs": [
    {
     "name": "stdout",
     "output_type": "stream",
     "text": [
      "Smallest difference in ‘for’ and ‘against’ goals: Leicester\n",
      "Smallest absolute difference in ‘for’ and ‘against’ goals: Aston_Villa\n"
     ]
    }
   ],
   "source": [
    "# The football.csv file contains the results from the English Premier League. \n",
    "# The columns labeled ‘Goals’ and ‘Goals Allowed’ contain the total number of \n",
    "# goals scored for and against each team in that season (so Arsenal scored 79 goals \n",
    "# against opponents, and had 36 goals scored against them). Write a program to read the file, \n",
    "# then print the name of the team with the smallest difference in ‘for’ and ‘against’ goals.\n",
    "r1 = []\n",
    "r2 = []\n",
    "with open('football.csv') as f:\n",
    "    f.readline()\n",
    "    for line in f:\n",
    "        l = line.split(',')\n",
    "        r1.append([l[0], int(l[5]) - int(l[6])])\n",
    "        r2.append([l[0], abs(int(l[5]) - int(l[6]))])\n",
    "print('Smallest difference in ‘for’ and ‘against’ goals:', min(r1, key=lambda r: r[-1])[0])\n",
    "print('Smallest absolute difference in ‘for’ and ‘against’ goals:', min(r2, key=lambda r: r[-1])[0])"
   ]
  }
 ],
 "metadata": {
  "kernelspec": {
   "display_name": "Python 3",
   "language": "python",
   "name": "python3"
  },
  "language_info": {
   "codemirror_mode": {
    "name": "ipython",
    "version": 3
   },
   "file_extension": ".py",
   "mimetype": "text/x-python",
   "name": "python",
   "nbconvert_exporter": "python",
   "pygments_lexer": "ipython3",
   "version": "3.6.3"
  }
 },
 "nbformat": 4,
 "nbformat_minor": 2
}
